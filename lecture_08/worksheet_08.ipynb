{
 "cells": [
  {
   "cell_type": "markdown",
   "metadata": {},
   "source": [
    "# Worksheet 08\n",
    "\n",
    "Name: Mark Yang\n",
    "\n",
    "UID: U27016194\n",
    "\n",
    "### Topics\n",
    "\n",
    "- Soft Clustering\n",
    "- Clustering Aggregation\n",
    "\n",
    "### Probability Review\n",
    "\n",
    "Read through [the following](https://medium.com/@gallettilance/overview-of-probability-3272b72c82c8)\n",
    "\n",
    "### Soft Clustering\n",
    "\n",
    "We generate 10 data points that come from a normal distribution with mean 5 and variance 1."
   ]
  },
  {
   "cell_type": "code",
   "execution_count": 171,
   "metadata": {},
   "outputs": [
    {
     "name": "stdout",
     "output_type": "stream",
     "text": [
      "[5.496714153011233, 4.861735698828816, 5.6476885381006925, 6.523029856408026, 4.765846625276664, 4.765863043050819, 6.5792128155073915, 5.7674347291529084, 4.530525614065048, 5.542560043585965]\n"
     ]
    }
   ],
   "source": [
    "import random\n",
    "import numpy as np\n",
    "from sklearn.cluster import KMeans\n",
    "\n",
    "mean = 5\n",
    "stdev = 1\n",
    "\n",
    "np.random.seed(42)\n",
    "random.seed(42)\n",
    "\n",
    "s1 = np.random.normal(mean, stdev, 10).tolist()\n",
    "print(s1)"
   ]
  },
  {
   "cell_type": "markdown",
   "metadata": {},
   "source": [
    "a) Generate 10 more data points, this time coming from a normal distribution with mean 8 and variance 1."
   ]
  },
  {
   "cell_type": "code",
   "execution_count": 172,
   "metadata": {},
   "outputs": [
    {
     "name": "stdout",
     "output_type": "stream",
     "text": [
      "[7.536582307187538, 7.5342702464297435, 8.241962271566035, 6.086719755342202, 6.275082167486968, 7.437712470759028, 6.987168879665576, 8.314247332595274, 7.091975924478789, 6.587696298664708]\n"
     ]
    }
   ],
   "source": [
    "s2 = np.random.normal( 8 , 1 , 10 ).tolist()\n",
    "print(s2)"
   ]
  },
  {
   "cell_type": "markdown",
   "metadata": {},
   "source": [
    "b) Flip a fair coin 10 times. If the coin lands on H, then pick the last data point of `s1` and remove it from `s1`, if T then pick the last data point from `s2` and remove it from `s2`. Add these 10 points to a list called `data`."
   ]
  },
  {
   "cell_type": "code",
   "execution_count": 173,
   "metadata": {},
   "outputs": [
    {
     "name": "stdout",
     "output_type": "stream",
     "text": [
      "[5.496714153011233, 4.861735698828816, 8.241962271566035, 6.523029856408026, 4.765846625276664, 4.765863043050819, 6.5792128155073915, 5.7674347291529084, 7.091975924478789, 5.542560043585965]\n"
     ]
    }
   ],
   "source": [
    "data = []\n",
    "for i in range(10):\n",
    "    # flip coin\n",
    "    coin_output = random.choice([0, 1])\n",
    "    if coin_output == 0:\n",
    "        p1 = s1[i]\n",
    "        data.append(p1)\n",
    "    else:\n",
    "        p2 = s2[i]\n",
    "        data.append(p2)\n",
    "print(data)"
   ]
  },
  {
   "cell_type": "markdown",
   "metadata": {},
   "source": [
    "c) This `data` is a Gaussian Mixture Distribution with 2 mixture components. Over the next few questions we will walk through the GMM algorithm to see if we can uncover the parameters we used to generate this data. First, please list all these parameters of the GMM that created `data` and the values we know they have."
   ]
  },
  {
   "cell_type": "markdown",
   "metadata": {},
   "source": [
    "The mean, variance, and probability of each mixed distribution is\n",
    "\n",
    "$\\mu_1 = 5, \\sigma_1 = 1, \\pi_1 = 0.5$\n",
    "\n",
    "$\\mu_2 = 8, \\sigma_2 = 1, \\pi_2 = 0.5$"
   ]
  },
  {
   "cell_type": "markdown",
   "metadata": {},
   "source": [
    "d) Let's assume there are two mixture components (note: we could plot the data and make the observation that there are two clusters). The EM algorithm asks us to start with a random `mean_j`, `variance_j`, `P(S_j)` for each component j. One method we could use to find sensible values for these is to apply K means with k=2 here.\n",
    "\n",
    "1. the centroids would be the estimates of the `mean_j`\n",
    "2. the intra-cluster variance could be the estimate of `variance_j`\n",
    "3. the proportion of points in each cluster could be the estimate of `P(S_j)`\n",
    "\n",
    "Go through this process and list the parameter estimates it gives. Are they close or far from the true values?"
   ]
  },
  {
   "cell_type": "code",
   "execution_count": 174,
   "metadata": {},
   "outputs": [
    {
     "name": "stderr",
     "output_type": "stream",
     "text": [
      "C:\\ProgramData\\anaconda3\\Lib\\site-packages\\sklearn\\cluster\\_kmeans.py:1412: FutureWarning: The default value of `n_init` will change from 10 to 'auto' in 1.4. Set the value of `n_init` explicitly to suppress the warning\n",
      "  super()._check_params_vs_input(X, default_n_init=10)\n",
      "C:\\ProgramData\\anaconda3\\Lib\\site-packages\\sklearn\\cluster\\_kmeans.py:1436: UserWarning: KMeans is known to have a memory leak on Windows with MKL, when there are less chunks than available threads. You can avoid it by setting the environment variable OMP_NUM_THREADS=1.\n",
      "  warnings.warn(\n"
     ]
    },
    {
     "name": "stdout",
     "output_type": "stream",
     "text": [
      "[5.496714153011233, 4.861735698828816, 4.765846625276664, 4.765863043050819, 5.7674347291529084, 5.542560043585965]\n",
      "[8.241962271566035, 6.523029856408026, 6.5792128155073915, 7.091975924478789]\n",
      "P(S_1) = 0.6,  P(S_2) = 0.4\n",
      "mean_1 = 5.200025715484401,  mean_2 = 7.10904521699006\n",
      "var_1 = 0.16979260459324919,  var_2 = 0.47698219744873016\n"
     ]
    }
   ],
   "source": [
    "kmeans = KMeans(2, init='k-means++').fit(X=np.array(data).reshape(-1, 1))\n",
    "\n",
    "s1 = [x[0] for x in filter(lambda x: x[1] == 0, zip(data, kmeans.labels_))]\n",
    "print(s1)\n",
    "s2 = [x[0] for x in filter(lambda x: x[1] == 1, zip(data, kmeans.labels_))]\n",
    "print(s2)\n",
    "\n",
    "prob_s = [ len(s1) / (len(s1) + len(s2)) , len(s2) / (len(s1) + len(s2)) ]\n",
    "mean = [ sum(s1)/len(s1) , sum(s2)/len(s2) ]\n",
    "var = [ sum(map(lambda x : (x - mean[0])**2, s1)) / len(s1) ,  sum(map(lambda x : (x - mean[1])**2, s2)) / len(s2) ]\n",
    "\n",
    "print(\"P(S_1) = \" + str(prob_s[0]) + \",  P(S_2) = \" + str(prob_s[1]))\n",
    "print(\"mean_1 = \" + str(mean[0]) + \",  mean_2 = \" + str(mean[1]))\n",
    "print(\"var_1 = \" + str(var[0]) + \",  var_2 = \" + str(var[1]))"
   ]
  },
  {
   "cell_type": "markdown",
   "metadata": {},
   "source": [
    "No, in general the values are not accurate. The mean are fairly close, with $5 \\approx 5.20$ and $8 \\approx 7.11$. However, the variances are way off, $\\sigma_1 = 0.170, \\sigma_2 = 0.477$, under one fifth and one half their true value"
   ]
  },
  {
   "cell_type": "markdown",
   "metadata": {},
   "source": [
    "e) For each data point, compute `P(S_j | X_i)`. Comment on which cluster you think each point belongs to based on the estimated probabilities. How does that compare to the truth?"
   ]
  },
  {
   "cell_type": "code",
   "execution_count": 175,
   "metadata": {},
   "outputs": [
    {
     "name": "stdout",
     "output_type": "stream",
     "text": [
      "point =  5.496714153011233\n",
      "probability of observing that point if it came from cluster 0 =  0.5104867121434126\n",
      "probability of observing that point if it came from cluster 1 =  0.0027620215227537937\n",
      "point =  4.861735698828816\n",
      "probability of observing that point if it came from cluster 0 =  0.32286083627057477\n",
      "probability of observing that point if it came from cluster 1 =  1.2649959667613473e-05\n",
      "point =  8.241962271566035\n",
      "probability of observing that point if it came from cluster 0 =  4.715316310041886e-70\n",
      "probability of observing that point if it came from cluster 1 =  0.049817205435799435\n",
      "point =  6.523029856408026\n",
      "probability of observing that point if it came from cluster 0 =  1.5389855095364956e-13\n",
      "probability of observing that point if it came from cluster 1 =  0.39322291737111464\n",
      "point =  4.765846625276664\n",
      "probability of observing that point if it came from cluster 0 =  0.08935146518470068\n",
      "probability of observing that point if it came from cluster 1 =  4.807982215661206e-06\n",
      "point =  4.765863043050819\n",
      "probability of observing that point if it came from cluster 0 =  0.08937356012329231\n",
      "probability of observing that point if it came from cluster 1 =  4.808795265342263e-06\n",
      "point =  6.5792128155073915\n",
      "probability of observing that point if it came from cluster 0 =  1.105938852347537e-14\n",
      "probability of observing that point if it came from cluster 1 =  0.45130942638112487\n",
      "point =  5.7674347291529084\n",
      "probability of observing that point if it came from cluster 0 =  0.008830906643284401\n",
      "probability of observing that point if it came from cluster 1 =  0.016013570507416152\n",
      "point =  7.091975924478789\n",
      "probability of observing that point if it came from cluster 0 =  2.5702766751070884e-27\n",
      "probability of observing that point if it came from cluster 1 =  0.8358528133603369\n",
      "point =  5.542560043585965\n",
      "probability of observing that point if it came from cluster 0 =  0.3070791614836617\n",
      "probability of observing that point if it came from cluster 1 =  0.003804726413305392\n",
      "5.496714153011233\n",
      "Probability of coming from S_1 = 0.9964059206859294\n",
      "Probability of coming from S_2 = 0.0035940793140706246\n",
      "\n",
      "4.861735698828816\n",
      "Probability of coming from S_1 = 0.9999738801204088\n",
      "Probability of coming from S_2 = 2.6119879591278043e-05\n",
      "\n",
      "8.241962271566035\n",
      "Probability of coming from S_1 = 1.4197854743534202e-68\n",
      "Probability of coming from S_2 = 1.0\n",
      "\n",
      "6.523029856408026\n",
      "Probability of coming from S_1 = 5.870660539667122e-13\n",
      "Probability of coming from S_2 = 0.9999999999994129\n",
      "\n",
      "4.765846625276664\n",
      "Probability of coming from S_1 = 0.9999641281036689\n",
      "Probability of coming from S_2 = 3.587189633121486e-05\n",
      "\n",
      "4.765863043050819\n",
      "Probability of coming from S_1 = 0.9999641309072349\n",
      "Probability of coming from S_2 = 3.586909276513268e-05\n",
      "\n",
      "6.5792128155073915\n",
      "Probability of coming from S_1 = 3.6757669606491185e-14\n",
      "Probability of coming from S_2 = 0.9999999999999633\n",
      "\n",
      "5.7674347291529084\n",
      "Probability of coming from S_1 = 0.4527133096726735\n",
      "Probability of coming from S_2 = 0.5472866903273265\n",
      "\n",
      "7.091975924478789\n",
      "Probability of coming from S_1 = 4.612552534412012e-27\n",
      "Probability of coming from S_2 = 1.0\n",
      "\n",
      "5.542560043585965\n",
      "Probability of coming from S_1 = 0.9918076353366534\n",
      "Probability of coming from S_2 = 0.0081923646633467\n",
      "\n"
     ]
    }
   ],
   "source": [
    "from scipy.stats import norm\n",
    "\n",
    "prob_s0_x = [] # P(S_0 | X_i)\n",
    "prob_s1_x = [] # P(S_1 | X_i)\n",
    "prob_x = [] # P(X_i)\n",
    "\n",
    "k = 2\n",
    "\n",
    "for p in data:\n",
    "    print(\"point = \", p)\n",
    "    pdf_i = []\n",
    "\n",
    "    for j in range(k):\n",
    "        # P(X_i | S_j)\n",
    "        pdf_i.append(norm.pdf(p, mean[j], var[j]))\n",
    "        print(\"probability of observing that point if it came from cluster \" + str(j) + \" = \", pdf_i[j])\n",
    "        # P(S_j) already computed\n",
    "        prob_s[j]\n",
    "\n",
    "    # P(X_i) = P(S_0)P(X_i | S_0) + P(S_1)P(X_i | S_1)\n",
    "    prob_x = prob_s[0] * pdf_i[0] + prob_s[1] * pdf_i[1]\n",
    "\n",
    "    # P(S_j | X_i) = P(X_i | S_j)P(S_j) / P(X_i)\n",
    "    prob_s0_x.append(pdf_i[0] * prob_s[0] / prob_x)\n",
    "    prob_s1_x.append(pdf_i[1] * prob_s[1] / prob_x)\n",
    "\n",
    "probs = zip(data, prob_s0_x, prob_s1_x)\n",
    "for p in probs:\n",
    "    print(p[0])\n",
    "    print(\"Probability of coming from S_1 = \" + str(p[1]))\n",
    "    print(\"Probability of coming from S_2 = \" + str(p[2]))\n",
    "    print()\n"
   ]
  },
  {
   "cell_type": "markdown",
   "metadata": {},
   "source": [
    "f) Having computed `P(S_j | X_i)`, update the estimates of `mean_j`, `var_j`, and `P(S_j)`. How different are these values from the original ones you got from K means? briefly comment."
   ]
  },
  {
   "cell_type": "code",
   "execution_count": 176,
   "metadata": {},
   "outputs": [
    {
     "name": "stdout",
     "output_type": "stream",
     "text": [
      "P(S_1) = 0.6,  P(S_2) = 0.4\n",
      "mean_1 = 5.142246302672242,  mean_2 = 6.94386158379264\n",
      "var_1 = 0.15128153484837978,  var_2 = 0.6138336430664507\n"
     ]
    }
   ],
   "source": [
    "prob_c = [sum(prob_s0_x)/ len(prob_s0_x), sum(prob_s1_x)/ len(prob_s1_x) ]\n",
    "mean = [sum([x[0] * x[1] for x in zip(prob_s0_x, data)]) / sum(prob_s0_x),\n",
    "        sum([x[0] * x[1] for x in zip(prob_s1_x, data)]) / sum(prob_s1_x) ]\n",
    "var = [sum([p*(x - mean[0])**2 for x, p in zip(data, prob_s0_x)]) / sum(prob_s0_x),\n",
    "       sum([p*(x - mean[1])**2 for x, p in zip(data, prob_s1_x)]) / sum(prob_s1_x) ]\n",
    "\n",
    "print(\"P(S_1) = \" + str(prob_s[0]) + \",  P(S_2) = \" + str(prob_s[1]))\n",
    "print(\"mean_1 = \" + str(mean[0]) + \",  mean_2 = \" + str(mean[1]))\n",
    "print(\"var_1 = \" + str(var[0]) + \",  var_2 = \" + str(var[1]))"
   ]
  },
  {
   "cell_type": "markdown",
   "metadata": {},
   "source": [
    "Comparing to the original values:\n",
    "\n",
    "$\\mu_1 = 5.20,  \\mu_2 = 7.11, \\sigma_1 = 0.180,  \\sigma_2 = 0.477$\n",
    "\n",
    "In this case, we see that the results aren't significantly more accurate. $\\sigma_1, \\sigma_2$ improved, while the $\\mu_1, \\mu_2$ are further from their true value. The $P(S_j)$ are the same."
   ]
  },
  {
   "cell_type": "markdown",
   "metadata": {},
   "source": [
    "g) Update `P(S_j | X_i)`. Comment on any differences or lack thereof you observe."
   ]
  },
  {
   "cell_type": "code",
   "execution_count": 177,
   "metadata": {},
   "outputs": [
    {
     "name": "stdout",
     "output_type": "stream",
     "text": [
      "Point: 5.496714153011233\n",
      "Group 0 old probability: 0.9964059206859294 Recalculated probability: 0.8629513602209493\n",
      "Group 1 old probability: 0.0035940793140706246 Recalculated probability: 0.13704863977905068\n",
      "\n",
      "Point: 4.861735698828816\n",
      "Group 0 old probability: 0.9999738801204088 Recalculated probability: 0.9970990387097846\n",
      "Group 1 old probability: 2.6119879591278043e-05 Recalculated probability: 0.0029009612902154004\n",
      "\n",
      "Point: 8.241962271566035\n",
      "Group 0 old probability: 1.4197854743534202e-68 Recalculated probability: 3.8981633643430788e-90\n",
      "Group 1 old probability: 1.0 Recalculated probability: 1.0\n",
      "\n",
      "Point: 6.523029856408026\n",
      "Group 0 old probability: 5.870660539667122e-13 Recalculated probability: 6.260699121979705e-18\n",
      "Group 1 old probability: 0.9999999999994129 Recalculated probability: 1.0\n",
      "\n",
      "Point: 4.765846625276664\n",
      "Group 0 old probability: 0.9999641281036689 Recalculated probability: 0.9933450151150846\n",
      "Group 1 old probability: 3.587189633121486e-05 Recalculated probability: 0.006654984884915489\n",
      "\n",
      "Point: 4.765863043050819\n",
      "Group 0 old probability: 0.9999641309072349 Recalculated probability: 0.993346172615214\n",
      "Group 1 old probability: 3.586909276513268e-05 Recalculated probability: 0.006653827384786144\n",
      "\n",
      "Point: 6.5792128155073915\n",
      "Group 0 old probability: 3.6757669606491185e-14 Recalculated probability: 1.8583275188827142e-19\n",
      "Group 1 old probability: 0.9999999999999633 Recalculated probability: 1.0\n",
      "\n",
      "Point: 5.7674347291529084\n",
      "Group 0 old probability: 0.4527133096726735 Recalculated probability: 0.007415959730270597\n",
      "Group 1 old probability: 0.5472866903273265 Recalculated probability: 0.9925840402697294\n",
      "\n",
      "Point: 7.091975924478789\n",
      "Group 0 old probability: 4.612552534412012e-27 Recalculated probability: 5.3485453306139075e-36\n",
      "Group 1 old probability: 1.0 Recalculated probability: 1.0\n",
      "\n",
      "Point: 5.542560043585965\n",
      "Group 0 old probability: 0.9918076353366534 Recalculated probability: 0.7131503766312669\n",
      "Group 1 old probability: 0.0081923646633467 Recalculated probability: 0.2868496233687331\n",
      "\n"
     ]
    }
   ],
   "source": [
    "from scipy.stats import norm\n",
    "\n",
    "new_prob_s0_x = [] # P(S_0 | X_i)\n",
    "new_prob_s1_x = [] # P(S_1 | X_i)\n",
    "\n",
    "k = 2\n",
    "\n",
    "for p in data:\n",
    "    pdf_i = []\n",
    "\n",
    "    for j in range(k):\n",
    "        # P(X_i | S_j)\n",
    "        pdf_i.append(norm.pdf(p, mean[j], var[j]))\n",
    "\n",
    "    # P(X_i) = P(S_0)P(X_i | S_0) + P(S_1)P(X_i | S_1)\n",
    "    new_prob_x = prob_s[0] * pdf_i[0] + prob_s[1] * pdf_i[1]\n",
    "\n",
    "    # P(S_j | X_i) = P(X_i | S_j)P(S_j) / P(X_i)\n",
    "    new_prob_s0_x.append(pdf_i[0] * prob_s[0] / new_prob_x)\n",
    "    new_prob_s1_x.append(pdf_i[1] * prob_s[1] / new_prob_x)\n",
    "\n",
    "probs = zip(data, new_prob_s0_x, new_prob_s1_x)\n",
    "for x, y0, yhat0, y1, yhat1 in zip(data, prob_s0_x, new_prob_s0_x, prob_s1_x, new_prob_s1_x):\n",
    "    print(\"Point:\", x)\n",
    "    print(\"Group 0 old probability:\", y0, \"Recalculated probability:\", yhat0)\n",
    "    print(\"Group 1 old probability:\", y1, \"Recalculated probability:\", yhat1)\n",
    "    print()\n"
   ]
  },
  {
   "cell_type": "markdown",
   "metadata": {},
   "source": [
    "We see that the recalculated probabilities are more certain about some points, like those greater than 5.7. Other points it is less certain about, especially the 5.54 point where it was certain it was 99% 0 before but now is only 71% certain."
   ]
  },
  {
   "cell_type": "markdown",
   "metadata": {},
   "source": [
    "h) Use `P(S_j | X_i)` to create a hard assignment - label each point as belonging to a specific cluster (0 or 1)"
   ]
  },
  {
   "cell_type": "code",
   "execution_count": 178,
   "metadata": {},
   "outputs": [
    {
     "name": "stdout",
     "output_type": "stream",
     "text": [
      "New assignment for each point:\n",
      "[0, 0, 1, 1, 0, 0, 1, 1, 1, 0]\n"
     ]
    }
   ],
   "source": [
    "new_assignment = [np.argmax(x) for x in zip(new_prob_s0_x,new_prob_s1_x)]\n",
    "print(\"New assignment for each point:\")\n",
    "print(new_assignment)"
   ]
  },
  {
   "cell_type": "code",
   "execution_count": null,
   "metadata": {},
   "outputs": [],
   "source": []
  }
 ],
 "metadata": {
  "kernelspec": {
   "display_name": "Python 3 (ipykernel)",
   "language": "python",
   "name": "python3"
  },
  "language_info": {
   "codemirror_mode": {
    "name": "ipython",
    "version": 3
   },
   "file_extension": ".py",
   "mimetype": "text/x-python",
   "name": "python",
   "nbconvert_exporter": "python",
   "pygments_lexer": "ipython3",
   "version": "3.11.5"
  },
  "vscode": {
   "interpreter": {
    "hash": "e7370f93d1d0cde622a1f8e1c04877d8463912d04d973331ad4851f04de6915a"
   }
  }
 },
 "nbformat": 4,
 "nbformat_minor": 2
}
