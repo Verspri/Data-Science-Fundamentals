{
 "cells": [
  {
   "cell_type": "markdown",
   "metadata": {},
   "source": [
    "# Worksheet 05\n",
    "\n",
    "Name: Mark Yang\n",
    "\n",
    "UID: U27016194\n",
    "\n",
    "### Topics\n",
    "\n",
    "- Cost Functions\n",
    "- Kmeans\n",
    "\n",
    "### Cost Function\n",
    "\n",
    "Solving Data Science problems often starts by defining a metric with which to evaluate solutions were you able to find some. This metric is called a cost function. Data Science then backtracks and tries to find a process / algorithm to find solutions that can optimize for that cost function.\n",
    "\n",
    "For example suppose you are asked to cluster three points A, B, C into two non-empty clusters. If someone gave you the solution `{A, B}, {C}`, how would you evaluate that this is a good solution?\n",
    "\n",
    "Notice that because the clusters need to be non-empty and all points must be assigned to a cluster, it must be that two of the three points will be together in one cluster and the third will be alone in the other cluster.\n",
    "\n",
    "In the above solution, if A and B are closer than A and C, and B and C, then this is a good solution. The smaller the distance between the two points in the same cluster (here A and B), the better the solution. So we can define our cost function to be that distance (between A and B here)!\n",
    "\n",
    "The algorithm / process would involve clustering together the two closest points and put the third in its own cluster. This process optimizes for that cost function because no other pair of points could have a lower distance (although it could equal it)."
   ]
  },
  {
   "cell_type": "markdown",
   "metadata": {},
   "source": [
    "### K means\n",
    "\n",
    "a) (1-dimensional clustering) Walk through Lloyd's algorithm step by step on the following dataset:\n",
    "\n",
    "`[0, .5, 1.5, 2, 6, 6.5, 7]` (note: each of these are 1-dimensional data points)\n",
    "\n",
    "Given the initial centroids:\n",
    "\n",
    "`[0, 2]`"
   ]
  },
  {
   "cell_type": "markdown",
   "metadata": {},
   "source": [
    "First iteration, the 2 centroids split the input around $(0+2)/2=1$ to two partitions\n",
    "\n",
    "`[0, .5], [1.5, 2, 6, 6.5, 7]`\n",
    "\n",
    "Next, the points are repartitioned by their centers, $(2*0.25 + 5*4.6)/7 = 3.357$\n",
    "\n",
    "`[0, .5, 1.5, 2], [6, 6.5, 7]`\n",
    "\n",
    "Now, the next repartition does not change the clusters, so we know we are done."
   ]
  },
  {
   "cell_type": "markdown",
   "metadata": {},
   "source": [
    "b) Describe in plain english what the cost function for k means is."
   ]
  },
  {
   "cell_type": "markdown",
   "metadata": {},
   "source": [
    "The cost function describes how good the clustering is, where a lower cost is better. \n",
    "\n",
    "The cost function tries to minimize the sum of squares of the clusters, minimizing the variance of each cluster."
   ]
  },
  {
   "cell_type": "markdown",
   "metadata": {},
   "source": [
    "c) For the same number of clusters K, why could there be very different solutions to the K means algorithm on a given dataset?"
   ]
  },
  {
   "cell_type": "markdown",
   "metadata": {},
   "source": [
    "The convergence algorithms are not guarenteed to find the global minimum, so different initializations produce different solutions."
   ]
  },
  {
   "cell_type": "markdown",
   "metadata": {},
   "source": [
    "d) Does Lloyd's Algorithm always converge? Why / why not?"
   ]
  },
  {
   "cell_type": "markdown",
   "metadata": {},
   "source": [
    "Yes, theoretically Lloyd's algorithm always converges. \n",
    "\n",
    "This is because each interation minimizes the in group variance, so each iteration minimizes the global cost. Because the cost does not increase each iteration, it must eventually converge.\n",
    "\n",
    "In practice, other effects like float precision may not guarentee the algorithm converges."
   ]
  },
  {
   "cell_type": "markdown",
   "metadata": {},
   "source": [
    "e) Follow along in class the implementation of Kmeans"
   ]
  },
  {
   "cell_type": "code",
   "execution_count": 13,
   "metadata": {},
   "outputs": [
    {
     "name": "stdout",
     "output_type": "stream",
     "text": [
      "Old center: [ 0.37642553 -1.09940079] New center: -0.8003514281671974\n",
      "Old center: [1.50196755 3.92953205] New center: 2.277547568642933\n",
      "Old center: [0.06651722 0.3024719 ] New center: 0.17682497836026656\n",
      "Old center: [ 3.10028434 -2.70197803] New center: -1.0437574708691455\n",
      "Old center: [2.38314477 0.94447949] New center: 1.810810928469467\n",
      "Old center: [-4.33425847  0.65328249] New center: -0.7273157313446446\n",
      "Old center: [-0.80035143 -0.80035143] New center: -0.8500044170568979\n",
      "Old center: [2.27754757 2.27754757] New center: 2.573478017789184\n",
      "Old center: [0.17682498 0.17682498] New center: 0.20304760165524496\n",
      "Old center: [-1.04375747 -1.04375747] New center: -1.5543514469173156\n",
      "Old center: [1.81081093 1.81081093] New center: 1.5418443304918223\n",
      "Old center: [-0.72731573 -0.72731573] New center: -0.5284177551955175\n",
      "Old center: [-0.85000442 -0.85000442] New center: -0.9082574333366583\n",
      "Old center: [2.57347802 2.57347802] New center: 2.573478017789184\n",
      "Old center: [0.2030476 0.2030476] New center: 0.24621079053189707\n",
      "Old center: [-1.55435145 -1.55435145] New center: -1.6818593290957768\n",
      "Old center: [1.54184433 1.54184433] New center: 1.5170446490798297\n",
      "Old center: [-0.52841776 -0.52841776] New center: -0.42789655606954385\n",
      "Old center: [-0.90825743 -0.90825743] New center: -0.9716942238093367\n",
      "Old center: [2.57347802 2.57347802] New center: 2.573478017789184\n",
      "Old center: [0.24621079 0.24621079] New center: 0.31048898397364194\n",
      "Old center: [-1.68185933 -1.68185933] New center: -1.7618073111191137\n",
      "Old center: [1.51704465 1.51704465] New center: 1.5170446490798297\n",
      "Old center: [-0.42789656 -0.42789656] New center: -0.37097627275326495\n",
      "Old center: [-0.97169422 -0.97169422] New center: -0.9995062270067921\n",
      "Old center: [2.57347802 2.57347802] New center: 2.573478017789184\n",
      "Old center: [0.31048898 0.31048898] New center: 0.36516249353062924\n",
      "Old center: [-1.76180731 -1.76180731] New center: -1.7999012707407012\n",
      "Old center: [1.51704465 1.51704465] New center: 1.5296744325852687\n",
      "Old center: [-0.37097627 -0.37097627] New center: -0.3373318186590684\n",
      "Old center: [-0.99950623 -0.99950623] New center: -1.0070309310242773\n",
      "Old center: [2.57347802 2.57347802] New center: 2.573478017789184\n",
      "Old center: [0.36516249 0.36516249] New center: 0.4106758977689181\n",
      "Old center: [-1.79990127 -1.79990127] New center: -1.8090282191681368\n",
      "Old center: [1.52967443 1.52967443] New center: 1.5418443304918223\n",
      "Old center: [-0.33733182 -0.33733182] New center: -0.3139731819216264\n",
      "Old center: [-1.00703093 -1.00703093] New center: -0.9945405814478988\n",
      "Old center: [2.57347802 2.57347802] New center: 2.573478017789184\n",
      "Old center: [0.4106759 0.4106759] New center: 0.42544182303552636\n",
      "Old center: [-1.80902822 -1.80902822] New center: -1.8090282191681368\n",
      "Old center: [1.54184433 1.54184433] New center: 1.5418443304918223\n",
      "Old center: [-0.31397318 -0.31397318] New center: -0.294250091678456\n",
      "Old center: [-0.99454058 -0.99454058] New center: -0.9823631568216009\n",
      "Old center: [2.57347802 2.57347802] New center: 2.573478017789184\n",
      "Old center: [0.42544182 0.42544182] New center: 0.4400072241812431\n",
      "Old center: [-1.80902822 -1.80902822] New center: -1.8090282191681368\n",
      "Old center: [1.54184433 1.54184433] New center: 1.5418443304918223\n",
      "Old center: [-0.29425009 -0.29425009] New center: -0.27399892670728426\n",
      "Old center: [-0.98236316 -0.98236316] New center: -0.963099371205754\n",
      "Old center: [2.57347802 2.57347802] New center: 2.573478017789184\n",
      "Old center: [0.44000722 0.44000722] New center: 0.4474988471977693\n",
      "Old center: [-1.80902822 -1.80902822] New center: -1.7999012707407012\n",
      "Old center: [1.54184433 1.54184433] New center: 1.5418443304918223\n",
      "Old center: [-0.27399893 -0.27399893] New center: -0.2586033049580063\n"
     ]
    }
   ],
   "source": [
    "import numpy as np\n",
    "from PIL import Image as im\n",
    "import matplotlib.pyplot as plt\n",
    "import sklearn.datasets as datasets\n",
    "\n",
    "centers = [[0, 0], [2, 2], [-3, 2], [2, -4]]\n",
    "X, _ = datasets.make_blobs(n_samples=300, centers=centers, cluster_std=1, random_state=0)\n",
    "\n",
    "class KMeans():\n",
    "\n",
    "    def __init__(self, data, k):\n",
    "        self.data = data\n",
    "        self.k = k\n",
    "        self.assignment = [-1 for _ in range(len(data))]\n",
    "        self.snaps = []\n",
    "    \n",
    "    def snap(self, centers):\n",
    "        TEMPFILE = \"temp.png\"\n",
    "\n",
    "        fig, ax = plt.subplots()\n",
    "        ax.scatter(X[:, 0], X[:, 1], c=self.assignment)\n",
    "        ax.scatter(centers[:,0], centers[:, 1], c='r')\n",
    "        fig.savefig(TEMPFILE)\n",
    "        plt.close()\n",
    "        self.snaps.append(im.fromarray(np.asarray(im.open(TEMPFILE))))\n",
    "\n",
    "\n",
    "    def lloyds(self):\n",
    "        #initialize centers\n",
    "        assert len(self.data) >= self.k\n",
    "        length = len(self.data)\n",
    "        centers = [self.data[i] for i in np.random.choice(range(length), size=self.k, replace=False)]\n",
    "        centers = np.array(centers)\n",
    "        changed = True\n",
    "        for iteration in range(500):\n",
    "            #assign to centers\n",
    "            for i, point in enumerate(self.data):\n",
    "                #distance to each center\n",
    "                dist = [(point[0]-c[0])**2 + (point[1]-c[1])**2 for c in centers]\n",
    "                closest = np.argmin(dist)\n",
    "                if closest != self.assignment[i]:\n",
    "                    changed = True\n",
    "                    self.assignment[i] = closest\n",
    "            \n",
    "            #save image\n",
    "            self.snap(centers)\n",
    "            \n",
    "            if changed == False:\n",
    "                return\n",
    "            \n",
    "            #compute new centers\n",
    "            new_centers = [[] for c in centers]\n",
    "            for i,d in enumerate(self.assignment):\n",
    "                new_centers[d].append(self.data[i])\n",
    "                \n",
    "            for i,l in enumerate(new_centers):\n",
    "                assert len(l)>0\n",
    "                print(\"Old center:\", centers[i], \"New center:\", np.mean(l,))\n",
    "                centers[i] = np.mean(l)\n",
    "            \n",
    "            changed = False\n",
    "\n",
    "kmeans = KMeans(X, 6)\n",
    "kmeans.lloyds()\n",
    "images = kmeans.snaps\n",
    "\n",
    "images[0].save(\n",
    "    'kmeans.gif',\n",
    "    optimize=False,\n",
    "    save_all=True,\n",
    "    append_images=images[1:],\n",
    "    loop=0,\n",
    "    duration=500\n",
    ")"
   ]
  },
  {
   "cell_type": "code",
   "execution_count": null,
   "metadata": {},
   "outputs": [],
   "source": []
  }
 ],
 "metadata": {
  "kernelspec": {
   "display_name": "Python 3 (ipykernel)",
   "language": "python",
   "name": "python3"
  },
  "language_info": {
   "codemirror_mode": {
    "name": "ipython",
    "version": 3
   },
   "file_extension": ".py",
   "mimetype": "text/x-python",
   "name": "python",
   "nbconvert_exporter": "python",
   "pygments_lexer": "ipython3",
   "version": "3.11.5"
  },
  "vscode": {
   "interpreter": {
    "hash": "76ca05dc3ea24b2e3b98cdb7774adfbb40773424bf5109b477fd793f623715af"
   }
  }
 },
 "nbformat": 4,
 "nbformat_minor": 2
}
