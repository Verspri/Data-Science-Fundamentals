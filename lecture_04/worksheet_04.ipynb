{
 "cells": [
  {
   "cell_type": "markdown",
   "metadata": {},
   "source": [
    "# Worksheet 04\n",
    "\n",
    "Name: Mark Yang\n",
    "\n",
    "UID: U27016194\n",
    "\n",
    "### Topics\n",
    "\n",
    "- Distance & Similarity"
   ]
  },
  {
   "cell_type": "markdown",
   "metadata": {},
   "source": [
    "### Distance & Similarity\n",
    "\n",
    "#### Part 1\n",
    "\n",
    "a) In the minkowski distance, describe what the parameters p and d are."
   ]
  },
  {
   "cell_type": "markdown",
   "metadata": {},
   "source": [
    "The parameter p is the order of the norm, in cases p=1,2 we get manhatten and euclidian distances respectively.\n",
    "The parameter d is the dimensionality of the space."
   ]
  },
  {
   "cell_type": "markdown",
   "metadata": {},
   "source": [
    "b) In your own words describe the difference between the Euclidean distance and the Manhattan distance."
   ]
  },
  {
   "cell_type": "markdown",
   "metadata": {},
   "source": [
    "Euclidan distance is the one most people are used too, which can be thought of as a generalized pythgorean distance. In contrast, the manhatten distance has no power, and can be thought of as a generalization of the absolute value."
   ]
  },
  {
   "cell_type": "markdown",
   "metadata": {},
   "source": [
    "Consider A = (0, 0) and B = (1, 1). When:\n",
    "\n",
    "- p = 1, d(A, B) = 2\n",
    "- p = 2, d(A, B) = $\\sqrt{2} = 1.41$\n",
    "- p = 3, d(A, B) = $2^{1/3} = 1.26$\n",
    "- p = 4, d(A, B) = $2^{1/4} = 1.19$\n",
    "\n",
    "c) Describe what you think distance would look like when p is very large."
   ]
  },
  {
   "cell_type": "markdown",
   "metadata": {},
   "source": [
    "As $p \\rightarrow \\infty$, the distance will become closer and closer to one. Infact the L infinity norm takes the max of the difference in each dimension."
   ]
  },
  {
   "cell_type": "markdown",
   "metadata": {},
   "source": [
    "d) Is the minkowski distance still a distance function when p < 1? Expain why / why not."
   ]
  },
  {
   "cell_type": "markdown",
   "metadata": {},
   "source": [
    "No, when p<1 the minkowski metric fails the triangle inequality and thus is not a distance function."
   ]
  },
  {
   "cell_type": "markdown",
   "metadata": {},
   "source": [
    "e) when would you use cosine similarity over the euclidan distance?"
   ]
  },
  {
   "cell_type": "markdown",
   "metadata": {},
   "source": [
    "Cosine similarity is used when you want to know if two vectors are similar, so you would use it if the thing you care about is direction of the vector."
   ]
  },
  {
   "cell_type": "markdown",
   "metadata": {},
   "source": [
    "f) what does the jaccard distance account for that the manhattan distance doesn't?"
   ]
  },
  {
   "cell_type": "markdown",
   "metadata": {},
   "source": [
    "Jaccard similarity can account for the size of the intersection, meaning matching terms will also be accounted."
   ]
  },
  {
   "cell_type": "markdown",
   "metadata": {},
   "source": [
    "#### Part 2\n",
    "\n",
    "Consider the following two sentences:"
   ]
  },
  {
   "cell_type": "code",
   "execution_count": 2,
   "metadata": {},
   "outputs": [],
   "source": [
    "s1 = \"hello my name is Alice\"  \n",
    "s2 = \"hello my name is Bob\""
   ]
  },
  {
   "cell_type": "markdown",
   "metadata": {},
   "source": [
    "using the union of words from both sentences, we can represent each sentence as a vector. Each element of the vector represents the presence or absence of the word at that index.\n",
    "\n",
    "In this example, the union of words is (\"hello\", \"my\", \"name\", \"is\", \"Alice\", \"Bob\") so we can represent the above sentences as such:"
   ]
  },
  {
   "cell_type": "code",
   "execution_count": 3,
   "metadata": {},
   "outputs": [],
   "source": [
    "v1 = [1,    1, 1,   1, 1,    0]\n",
    "#     hello my name is Alice\n",
    "v2 = [1,    1, 1,   1, 0, 1]\n",
    "#     hello my name is    Bob"
   ]
  },
  {
   "cell_type": "markdown",
   "metadata": {},
   "source": [
    "Programmatically, we can do the following:"
   ]
  },
  {
   "cell_type": "code",
   "execution_count": 4,
   "metadata": {},
   "outputs": [
    {
     "name": "stdout",
     "output_type": "stream",
     "text": [
      "['name', 'my', 'Alice', 'hello', 'Bob', 'is']\n",
      "[1, 1, 1, 1, 0, 1]\n"
     ]
    }
   ],
   "source": [
    "corpus = [s1, s2]\n",
    "all_words = list(set([item for x in corpus for item in x.split()]))\n",
    "print(all_words)\n",
    "v1 = [1 if x in s1 else 0 for x in all_words]\n",
    "print(v1)"
   ]
  },
  {
   "cell_type": "markdown",
   "metadata": {},
   "source": [
    "Let's add a new sentence to our corpus:"
   ]
  },
  {
   "cell_type": "code",
   "execution_count": 5,
   "metadata": {},
   "outputs": [],
   "source": [
    "s3 = \"hi my name is Claude\"\n",
    "corpus.append(s3)"
   ]
  },
  {
   "cell_type": "markdown",
   "metadata": {},
   "source": [
    "a) What is the new union of words used to represent s1, s2, and s3?"
   ]
  },
  {
   "cell_type": "code",
   "execution_count": 6,
   "metadata": {},
   "outputs": [
    {
     "name": "stdout",
     "output_type": "stream",
     "text": [
      "Words in corpus:\n",
      "['name', 'my', 'hi', 'Alice', 'hello', 'Bob', 'Claude', 'is']\n"
     ]
    }
   ],
   "source": [
    "all_words = list(set([item for x in corpus for item in x.split()]))\n",
    "print(\"Words in corpus:\")\n",
    "print(all_words)"
   ]
  },
  {
   "cell_type": "markdown",
   "metadata": {},
   "source": [
    "b) Represent s1, s2, and s3 as vectors as above, using this new set of words."
   ]
  },
  {
   "cell_type": "code",
   "execution_count": 7,
   "metadata": {},
   "outputs": [
    {
     "name": "stdout",
     "output_type": "stream",
     "text": [
      "s1, s2, s3:\n",
      "[1, 1, 0, 1, 1, 0, 0, 1]\n",
      "[1, 1, 0, 0, 1, 1, 0, 1]\n",
      "[1, 1, 1, 0, 0, 0, 1, 1]\n"
     ]
    }
   ],
   "source": [
    "v1 = [1 if x in s1 else 0 for x in all_words]\n",
    "v2 = [1 if x in s2 else 0 for x in all_words]\n",
    "v3 = [1 if x in s3 else 0 for x in all_words]\n",
    "\n",
    "print(\"s1, s2, s3:\")\n",
    "print(v1)\n",
    "print(v2)\n",
    "print(v3)"
   ]
  },
  {
   "cell_type": "markdown",
   "metadata": {},
   "source": [
    "c) Write a function that computes the manhattan distance between two vectors. Which pair of vectors are the most similar under that distance function?"
   ]
  },
  {
   "cell_type": "code",
   "execution_count": 16,
   "metadata": {},
   "outputs": [
    {
     "name": "stdout",
     "output_type": "stream",
     "text": [
      "s1, s2: 2\n",
      "s1, s3: 4\n",
      "s2, s3: 4\n"
     ]
    }
   ],
   "source": [
    "def L1(x1, x2):\n",
    "    return sum([abs(a-b) for a,b in zip(x1,x2)])\n",
    "\n",
    "print(\"s1, s2:\", L1(v1,v2))\n",
    "print(\"s1, s3:\", L1(v1,v3))\n",
    "print(\"s2, s3:\", L1(v2,v3))"
   ]
  },
  {
   "cell_type": "markdown",
   "metadata": {},
   "source": [
    "S1 and S2 are most similar under the manhattan distance"
   ]
  },
  {
   "cell_type": "markdown",
   "metadata": {},
   "source": [
    "d) Create a matrix of all these vectors (row major) and add the following sentences in vector form:\n",
    "\n",
    "- \"hi Alice\"\n",
    "- \"hello Claude\"\n",
    "- \"Bob my name is Claude\"\n",
    "- \"hi Claude my name is Alice\"\n",
    "- \"hello Bob\""
   ]
  },
  {
   "cell_type": "code",
   "execution_count": 17,
   "metadata": {},
   "outputs": [],
   "source": [
    "new_sentences = [\"hi Alice\",\n",
    "        \"hello Claude\",\n",
    "        \"Bob my name is Claude\",\n",
    "        \"hi Claude my name is Alice\",\n",
    "        \"hello Bob\"]\n",
    "corpus += new_sentences\n",
    "\n",
    "all_words = list(set([item for x in corpus for item in x.split()]))\n",
    "\n",
    "word_matrix = [[1 if x in sentence else 0 for x in all_words] for sentence in corpus]"
   ]
  },
  {
   "cell_type": "code",
   "execution_count": 20,
   "metadata": {},
   "outputs": [
    {
     "name": "stdout",
     "output_type": "stream",
     "text": [
      "[1, 1, 0, 1, 1, 0, 0, 1]\n",
      "[1, 1, 0, 0, 1, 1, 0, 1]\n",
      "[1, 1, 1, 0, 0, 0, 1, 1]\n",
      "[0, 0, 1, 1, 0, 0, 0, 0]\n",
      "[0, 0, 0, 0, 1, 0, 1, 0]\n",
      "[1, 1, 0, 0, 0, 1, 1, 1]\n",
      "[1, 1, 1, 1, 0, 0, 1, 1]\n",
      "[0, 0, 0, 0, 1, 1, 0, 0]\n"
     ]
    }
   ],
   "source": [
    "for sentence in word_matrix:\n",
    "    print(sentence)"
   ]
  },
  {
   "cell_type": "markdown",
   "metadata": {},
   "source": [
    "e) How many rows and columns does this matrix have?"
   ]
  },
  {
   "cell_type": "code",
   "execution_count": 21,
   "metadata": {},
   "outputs": [
    {
     "name": "stdout",
     "output_type": "stream",
     "text": [
      "Rows: 8\n",
      "Cols: 8\n"
     ]
    }
   ],
   "source": [
    "print(\"Rows:\", len(word_matrix))\n",
    "print(\"Cols:\", len(word_matrix[0]))"
   ]
  },
  {
   "cell_type": "markdown",
   "metadata": {},
   "source": [
    "f) When using the Manhattan distance, which two sentences are the most similar?"
   ]
  },
  {
   "cell_type": "code",
   "execution_count": 22,
   "metadata": {},
   "outputs": [
    {
     "name": "stdout",
     "output_type": "stream",
     "text": [
      "The most similar sentences are:\n",
      "hi Claude my name is Alice\n",
      "hi my name is Claude\n"
     ]
    }
   ],
   "source": [
    "min_distance = 999\n",
    "most_similar = (None, None)\n",
    "for x in range(len(word_matrix)):\n",
    "    for y in range(x):\n",
    "        s1 = word_matrix[x]\n",
    "        s2 = word_matrix[y]\n",
    "        dist = L1(s1,s2)\n",
    "        if dist < min_distance:\n",
    "            most_similar = (x,y)\n",
    "            min_distance = dist\n",
    "            \n",
    "print(\"The most similar sentences are:\")\n",
    "print(corpus[most_similar[0]])\n",
    "print(corpus[most_similar[1]])"
   ]
  },
  {
   "cell_type": "markdown",
   "metadata": {},
   "source": [
    "#### Part 3 Challenge"
   ]
  },
  {
   "cell_type": "markdown",
   "metadata": {},
   "source": [
    "Given a set of graphs $\\mathcal{G}$, each graph $G \\in \\mathcal{G}$ is defined over the same set of nodes $V$. The graphs are represented by their adjacency matrices, which are 2D arrays where each element indicates whether a pair of nodes is connected by an edge.\n",
    "\n",
    "Your task is to compute the pairwise distances between these graphs based on a specific distance metric. The distance $d(G, G')$ between two graphs $G = (V, E)$ and $G' = (V, E')$ is defined as the sum of the number of edges in $G$ but not in $G'$, and the number of edges in $G'$ but not in $G$. Mathematically, this can be expressed as:\n",
    "\n",
    "$$\n",
    "d(G, G') = |E \\setminus E'| + |E' \\setminus E|.\n",
    "$$\n",
    "\n",
    "##### Requirements:\n",
    "1. **Input**: Should take a list of 2D numpy arrays as input. Each array represents the adjacency matrix of a graph.\n",
    "\n",
    "2. **Output**: Should output a pairwise distance matrix. If there are $n$ graphs in the input list, the output should be an $n \\times n$ matrix where the entry at position $(i, j)$ represents the distance between the $i^{th}$ and $j^{th}$ graph."
   ]
  },
  {
   "cell_type": "code",
   "execution_count": 25,
   "metadata": {},
   "outputs": [
    {
     "name": "stdout",
     "output_type": "stream",
     "text": [
      "Graphs:\n",
      "[[0, 0, 1], [0, 0, 0], [0, 0, 0]]\n",
      "[[0, 1, 1], [1, 1, 1], [0, 0, 0]]\n",
      "[[1, 1, 1], [1, 1, 0], [0, 0, 1]]\n",
      "[[0, 0, 0], [1, 0, 0], [0, 1, 1]]\n",
      "[[0, 0, 0], [0, 0, 0], [1, 1, 1]]\n",
      "Distances:\n",
      "[[0, 4, 5, 4, 4], [4, 0, 3, 6, 8], [5, 3, 0, 5, 7], [4, 6, 5, 0, 2], [4, 8, 7, 2, 0]]\n"
     ]
    }
   ],
   "source": [
    "def graph_distance(graphs, undirected=False):\n",
    "    dists = [[0 for _ in graphs] for _ in graphs]\n",
    "    for x1 in range(len(graphs)):\n",
    "        for x2 in range(x1):\n",
    "            g1 = graphs[x1]\n",
    "            g2 = graphs[x2]\n",
    "            #using the inclusion/exclusion principle, the distance is the order of the edges minus twice the intersection\n",
    "            dist = sum([sum(x) for x in g1]) + sum([sum(x) for x in g2])\n",
    "            intersection = [[(x==1 and y==1) for x,y in zip(n1,n2)] for n1,n2 in zip(g1,g2)]\n",
    "            dist -= 2 * sum([sum(x) for x in intersection])\n",
    "            if undirected:\n",
    "                dist /= 2 #as edges will be double counted\n",
    "            dists[x1][x2] = dist\n",
    "            dists[x2][x1] = dist\n",
    "    return dists\n",
    "\n",
    "test_graphs=[[[0,0,1],[0,0,0],[0,0,0]],\n",
    "            [[0,1,1],[1,1,1],[0,0,0]],\n",
    "            [[1,1,1],[1,1,0],[0,0,1]],\n",
    "            [[0,0,0],[1,0,0],[0,1,1]],\n",
    "            [[0,0,0],[0,0,0],[1,1,1]]]\n",
    "\n",
    "print(\"Graphs:\")\n",
    "for graph in test_graphs:\n",
    "    print(graph)\n",
    "print(\"Distances:\")\n",
    "print(graph_distance(test_graphs))\n"
   ]
  },
  {
   "cell_type": "code",
   "execution_count": null,
   "metadata": {},
   "outputs": [],
   "source": []
  }
 ],
 "metadata": {
  "kernelspec": {
   "display_name": "Python 3 (ipykernel)",
   "language": "python",
   "name": "python3"
  },
  "language_info": {
   "codemirror_mode": {
    "name": "ipython",
    "version": 3
   },
   "file_extension": ".py",
   "mimetype": "text/x-python",
   "name": "python",
   "nbconvert_exporter": "python",
   "pygments_lexer": "ipython3",
   "version": "3.11.5"
  },
  "vscode": {
   "interpreter": {
    "hash": "76ca05dc3ea24b2e3b98cdb7774adfbb40773424bf5109b477fd793f623715af"
   }
  }
 },
 "nbformat": 4,
 "nbformat_minor": 2
}
